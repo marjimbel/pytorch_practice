{
 "cells": [
  {
   "cell_type": "code",
   "execution_count": 1,
   "metadata": {
    "collapsed": true
   },
   "outputs": [
    {
     "name": "stdout",
     "output_type": "stream",
     "text": [
      "initial train set size: 60000\n",
      "final train set size: 48000\n",
      "final valid set size: 12000\n",
      "batch size train: torch.Size([32, 1, 28, 28])\n",
      "batch size valid: torch.Size([32, 1, 28, 28])\n",
      "batch size test: torch.Size([32, 1, 28, 28])\n"
     ]
    }
   ],
   "source": [
    "# loading a dataset from torchvision datasets\n",
    "from torchvision import datasets, transforms\n",
    "import torch\n",
    "\n",
    "#\n",
    "train_transforms = transforms.Compose([\n",
    "    transforms.RandomHorizontalFlip(),\n",
    "    transforms.RandomRotation(30),\n",
    "    transforms.ToTensor(),\n",
    "    transforms.Normalize((0.5,), (0.5,))\n",
    "])\n",
    "\n",
    "test_transforms = transforms.Compose([\n",
    "    transforms.ToTensor(),\n",
    "    transforms.Normalize((0.5,), (0.5,))\n",
    "])\n",
    "\n",
    "train_dataset = datasets.MNIST(\n",
    "root = 'datasets',\n",
    "train = True,\n",
    "transform = train_transforms,\n",
    "download = True,\n",
    ")\n",
    "test_dataset = datasets.MNIST(\n",
    "root = 'datasets',\n",
    "train = False,\n",
    "transform = test_transforms,\n",
    "download=True,\n",
    ")\n",
    "\n",
    "# break train data into train, validation\n",
    "train_len = int(len(train_dataset)*.80)\n",
    "valid_len = len(train_dataset) - train_len\n",
    "\n",
    "print(f\"initial train set size: {len(train_dataset)}\")\n",
    "train_dataset, validation_dataset = torch.utils.data.random_split(train_dataset, [train_len, valid_len])\n",
    "print(f\"final train set size: {len(train_dataset)}\")\n",
    "print(f\"final valid set size: {len(validation_dataset)}\")\n",
    "\n",
    "\n",
    "train_dataloader = torch.utils.data.DataLoader(train_dataset,\n",
    "                                          batch_size=32,\n",
    "                                          shuffle=True)\n",
    "\n",
    "validation_dataloader = torch.utils.data.DataLoader(validation_dataset,\n",
    "                                          batch_size=32,\n",
    "                                          shuffle=True)\n",
    "\n",
    "test_dataloader = torch.utils.data.DataLoader(test_dataset,\n",
    "                                          batch_size=32,\n",
    "                                          shuffle=True)\n",
    "\n",
    "images, _ = next(iter(train_dataloader))\n",
    "print(f\"batch size train: {images.shape}\")\n",
    "images, _ = next(iter(validation_dataloader))\n",
    "print(f\"batch size valid: {images.shape}\")\n",
    "images, _ = next(iter(test_dataloader))\n",
    "print(f\"batch size test: {images.shape}\")\n"
   ]
  },
  {
   "cell_type": "code",
   "execution_count": 2,
   "outputs": [],
   "source": [
    "# if you are loading images from a local folder you can do, where the images are individual jpg files\n",
    "# # Pass transforms in here, then run the next cell to see how the transforms look\n",
    "# train_data = datasets.ImageFolder(data_dir + '/train', transform=train_transforms)\n",
    "# test_data = datasets.ImageFolder(data_dir + '/test', transform=test_transforms)\n",
    "#\n",
    "# trainloader = torch.utils.data.DataLoader(train_data, batch_size=32, shuffle=True)\n",
    "# testloader = torch.utils.data.DataLoader(test_data, batch_size=32, shuffle=True)"
   ],
   "metadata": {
    "collapsed": false
   }
  },
  {
   "cell_type": "code",
   "execution_count": 3,
   "outputs": [
    {
     "data": {
      "text/plain": "<Figure size 1000x400 with 4 Axes>",
      "image/png": "[encoded data removed]"
     },
     "metadata": {},
     "output_type": "display_data"
    }
   ],
   "source": [
    "# visualize some images\n",
    "import matplotlib.pyplot as plt\n",
    "import helper\n",
    "images, labels = next(iter(train_dataloader))\n",
    "\n",
    "fig, axes = plt.subplots(figsize=(10,4), ncols=4)\n",
    "for ii in range(4):\n",
    "    ax = axes[ii]\n",
    "    helper.imshow(images[ii], ax=ax, normalize=False)\n"
   ],
   "metadata": {
    "collapsed": false
   }
  },
  {
   "cell_type": "code",
   "execution_count": 129,
   "outputs": [
    {
     "name": "stdout",
     "output_type": "stream",
     "text": [
      "MyCNN(\n",
      "  (cl1): Conv2d(1, 8, kernel_size=(2, 2), stride=(1, 1), padding=(1, 1))\n",
      "  (cl2): Conv2d(8, 16, kernel_size=(2, 2), stride=(1, 1), padding=(1, 1))\n",
      "  (maxpool): MaxPool2d(kernel_size=2, stride=2, padding=0, dilation=1, ceil_mode=False)\n",
      "  (relu): ReLU()\n",
      "  (dropout): Dropout(p=0.1, inplace=False)\n",
      "  (fc1): Linear(in_features=784, out_features=10, bias=True)\n",
      "  (logsoft): LogSoftmax(dim=1)\n",
      ")\n"
     ]
    },
    {
     "data": {
      "text/plain": "torch.Size([32, 10])"
     },
     "execution_count": 129,
     "metadata": {},
     "output_type": "execute_result"
    }
   ],
   "source": [
    "# now define CNN model\n",
    "import torch.nn as nn\n",
    "\n",
    "class MyCNN(nn.Module):\n",
    "    def __init__(self):\n",
    "        super().__init__()\n",
    "\n",
    "        self.cl1 = nn.Conv2d(\n",
    "            in_channels=1,\n",
    "            out_channels=8,\n",
    "            kernel_size=2,\n",
    "            stride=1,\n",
    "            padding=1)\n",
    "\n",
    "        self.cl2 = nn.Conv2d(\n",
    "            in_channels=8,\n",
    "            out_channels=16,\n",
    "            kernel_size=2,\n",
    "            stride=1,\n",
    "            padding=1)\n",
    "\n",
    "        self.maxpool = nn.MaxPool2d(2)\n",
    "        self.relu = nn.ReLU()\n",
    "        self.dropout = nn.Dropout(.1)\n",
    "        self.fc1 = nn.Linear(784, 10)\n",
    "        self.logsoft = nn.LogSoftmax(dim=1)\n",
    "\n",
    "    def forward(self, x):\n",
    "        x = self.relu(self.maxpool(self.cl1(x)))\n",
    "        x = self.dropout(x)\n",
    "        x = self.relu(self.maxpool(self.cl2(x)))\n",
    "        x = self.dropout(x)\n",
    "\n",
    "        # flatten before feeding to linear layer\n",
    "        x = x.view(x.shape[0], -1)\n",
    "        x = self.fc1(x)\n",
    "        x = self.logsoft(x)\n",
    "        return x\n",
    "\n",
    "\n",
    "# try a forward pass to make sure everything looks OK\n",
    "model = MyCNN()\n",
    "print(model)\n",
    "\n",
    "images, labels = next(iter(train_dataloader))\n",
    "model(images).shape\n"
   ],
   "metadata": {
    "collapsed": false
   }
  },
  {
   "cell_type": "code",
   "execution_count": 130,
   "outputs": [
    {
     "name": "stdout",
     "output_type": "stream",
     "text": [
      "train loss: 2.399 val loss: 2.458 val acc: 0.082\n",
      "train loss: 0.971 val loss: 0.539 val acc: 0.828\n",
      "train loss: 0.769 val loss: 0.448 val acc: 0.854\n",
      "train loss: 0.339 val loss: 0.397 val acc: 0.875\n",
      "train loss: 0.463 val loss: 0.404 val acc: 0.869\n",
      "train loss: 0.454 val loss: 0.369 val acc: 0.877\n",
      "train loss: 0.686 val loss: 0.349 val acc: 0.885\n",
      "train loss: 0.413 val loss: 0.36 val acc: 0.882\n",
      "train loss: 0.416 val loss: 0.348 val acc: 0.885\n",
      "train loss: 0.565 val loss: 0.332 val acc: 0.893\n",
      "train loss: 0.404 val loss: 0.33 val acc: 0.89\n",
      "train loss: 0.405 val loss: 0.332 val acc: 0.891\n",
      "train loss: 0.537 val loss: 0.329 val acc: 0.889\n",
      "train loss: 0.401 val loss: 0.339 val acc: 0.887\n",
      "train loss: 0.398 val loss: 0.334 val acc: 0.892\n",
      "train loss: 0.418 val loss: 0.322 val acc: 0.894\n",
      "train loss: 0.383 val loss: 0.34 val acc: 0.89\n",
      "train loss: 0.388 val loss: 0.311 val acc: 0.898\n",
      "train loss: 0.517 val loss: 0.331 val acc: 0.892\n",
      "train loss: 0.381 val loss: 0.321 val acc: 0.895\n",
      "train loss: 0.384 val loss: 0.334 val acc: 0.89\n",
      "train loss: 0.287 val loss: 0.307 val acc: 0.897\n",
      "train loss: 0.386 val loss: 0.321 val acc: 0.896\n",
      "train loss: 0.382 val loss: 0.311 val acc: 0.9\n",
      "train loss: 0.52 val loss: 0.327 val acc: 0.89\n",
      "train loss: 0.382 val loss: 0.315 val acc: 0.9\n",
      "train loss: 0.376 val loss: 0.316 val acc: 0.898\n",
      "train loss: 0.396 val loss: 0.315 val acc: 0.897\n",
      "train loss: 0.368 val loss: 0.314 val acc: 0.898\n",
      "train loss: 0.369 val loss: 0.308 val acc: 0.899\n"
     ]
    }
   ],
   "source": [
    "# now lets train\n",
    "optimizer = torch.optim.Adam(model.parameters(), lr=.003)\n",
    "criteria = nn.NLLLoss()\n",
    "\n",
    "epochs = 10\n",
    "\n",
    "def accuracy(model, criteria, dataset):\n",
    "\n",
    "    running_loss = 0\n",
    "    running_accuracy = 0\n",
    "    for idx, (images, labels) in enumerate(dataset):\n",
    "        images = images.to(\"mps\")\n",
    "        labels = labels.to(\"mps\")\n",
    "        model.eval()\n",
    "        log_soft = model.forward(images)\n",
    "        loss = criteria(log_soft, labels)\n",
    "        running_loss += loss.item()\n",
    "        _,preds = torch.exp(log_soft).topk(1)\n",
    "        equals = labels.squeeze()==preds.squeeze()\n",
    "        running_accuracy += torch.mean(equals.to(torch.float32)).item()\n",
    "        model.train()\n",
    "\n",
    "    avg_acc = round(running_accuracy/len(dataset),3)\n",
    "    avg_los = round(running_loss/len(dataset),3)\n",
    "\n",
    "    return avg_acc, avg_los\n",
    "\n",
    "for e in range(1, epochs+1):\n",
    "\n",
    "    running_loss = 0\n",
    "\n",
    "    for idx, (images, labels) in enumerate(train_dataloader):\n",
    "\n",
    "        # use GPU\n",
    "        torch.device(\"mps\")\n",
    "        model.to(\"mps\")\n",
    "        images = images.to(\"mps\")\n",
    "        labels = labels.to(\"mps\")\n",
    "\n",
    "        # clean gradients\n",
    "        optimizer.zero_grad()\n",
    "        #forward\n",
    "        log_soft = model.forward(images)\n",
    "        # loss\n",
    "        loss = criteria(log_soft, labels)\n",
    "        running_loss+= loss.item()\n",
    "        # backward\n",
    "        loss.backward()\n",
    "        # gradient step\n",
    "        optimizer.step()\n",
    "\n",
    "        #  evaluate\n",
    "        if idx%500==0:\n",
    "            train_loss = round(running_loss/(idx+1),3)\n",
    "            acc, loss_val = accuracy(model, criteria, validation_dataloader)\n",
    "            print(f\"train loss: {train_loss} val loss: {loss_val} val acc: {acc}\")\n",
    "\n"
   ],
   "metadata": {
    "collapsed": false
   }
  },
  {
   "cell_type": "code",
   "execution_count": null,
   "outputs": [],
   "source": [],
   "metadata": {
    "collapsed": false
   }
  }
 ],
 "metadata": {
  "kernelspec": {
   "display_name": "Python 3",
   "language": "python",
   "name": "python3"
  },
  "language_info": {
   "codemirror_mode": {
    "name": "ipython",
    "version": 2
   },
   "file_extension": ".py",
   "mimetype": "text/x-python",
   "name": "python",
   "nbconvert_exporter": "python",
   "pygments_lexer": "ipython2",
   "version": "2.7.6"
  }
 },
 "nbformat": 4,
 "nbformat_minor": 0
}
