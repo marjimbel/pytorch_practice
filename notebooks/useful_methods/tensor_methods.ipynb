{
 "cells": [
  {
   "cell_type": "code",
   "execution_count": 1,
   "metadata": {
    "collapsed": true
   },
   "outputs": [],
   "source": [
    "import torch\n",
    "import numpy as np"
   ]
  },
  {
   "cell_type": "code",
   "execution_count": 2,
   "outputs": [
    {
     "name": "stdout",
     "output_type": "stream",
     "text": [
      "[1 2 3 4 5]\n",
      "tensor([1, 2, 3, 4, 5], dtype=torch.int32)\n",
      "tensor([1, 2, 3, 4, 5])\n"
     ]
    }
   ],
   "source": [
    "# numpy arrays to tensors\n",
    "arr = np.arange(1,6)\n",
    "print(arr)\n",
    "print(torch.IntTensor(arr))\n",
    "print(torch.from_numpy(arr))\n"
   ],
   "metadata": {
    "collapsed": false
   }
  },
  {
   "cell_type": "code",
   "execution_count": 3,
   "outputs": [
    {
     "data": {
      "text/plain": "torch.Tensor"
     },
     "execution_count": 3,
     "metadata": {},
     "output_type": "execute_result"
    }
   ],
   "source": [
    "array2d = np.arange(0,12).reshape(3,4)\n",
    "array2d = torch.tensor(array2d)\n",
    "type(array2d)"
   ],
   "metadata": {
    "collapsed": false
   }
  },
  {
   "cell_type": "code",
   "execution_count": 4,
   "outputs": [
    {
     "name": "stdout",
     "output_type": "stream",
     "text": [
      "tensor([[9.7460e-32, 1.4013e-45, 9.0726e-32],\n",
      "        [1.4013e-45, 3.6796e-33, 1.4013e-45]])\n",
      "tensor([[0., 0., 0.],\n",
      "        [0., 0., 0.]])\n"
     ]
    }
   ],
   "source": [
    "# create an empty 2x3 tensor\n",
    "placeholder = torch.empty(2,3)\n",
    "zeros_t = torch.zeros(2,3)\n",
    "print(placeholder)\n",
    "print(zeros_t)"
   ],
   "metadata": {
    "collapsed": false
   }
  },
  {
   "cell_type": "code",
   "execution_count": 5,
   "outputs": [
    {
     "data": {
      "text/plain": "tensor([[0, 0, 0],\n        [0, 0, 0]], dtype=torch.int32)"
     },
     "execution_count": 5,
     "metadata": {},
     "output_type": "execute_result"
    }
   ],
   "source": [
    "# change type of a tensor\n",
    "placeholder.type(torch.int)\n"
   ],
   "metadata": {
    "collapsed": false
   }
  },
  {
   "cell_type": "code",
   "execution_count": 6,
   "outputs": [
    {
     "name": "stdout",
     "output_type": "stream",
     "text": [
      "tensor([[ 0,  2,  4],\n",
      "        [ 6,  8, 10],\n",
      "        [12, 14, 16]])\n",
      "tensor([  0.0000,  11.1111,  22.2222,  33.3333,  44.4444,  55.5556,  66.6667,\n",
      "         77.7778,  88.8889, 100.0000])\n"
     ]
    }
   ],
   "source": [
    "# ranges and linspaces\n",
    "print(torch.arange(0,18,2).reshape(3,3))\n",
    "print(torch.linspace(0,100,10))"
   ],
   "metadata": {
    "collapsed": false
   }
  },
  {
   "cell_type": "code",
   "execution_count": 7,
   "outputs": [
    {
     "data": {
      "text/plain": "tensor([[0.8823, 0.9150, 0.3829, 0.9593],\n        [0.3904, 0.6009, 0.2566, 0.7936],\n        [0.9408, 0.1332, 0.9346, 0.5936]])"
     },
     "execution_count": 7,
     "metadata": {},
     "output_type": "execute_result"
    }
   ],
   "source": [
    "torch.random.manual_seed(42)\n",
    "torch.rand(3,4)"
   ],
   "metadata": {
    "collapsed": false
   }
  },
  {
   "cell_type": "code",
   "execution_count": 8,
   "outputs": [
    {
     "data": {
      "text/plain": "<Figure size 640x480 with 1 Axes>",
      "image/png": "[encoded data removed]"
     },
     "metadata": {},
     "output_type": "display_data"
    }
   ],
   "source": [
    "import matplotlib.pyplot as plt\n",
    "plt.hist(torch.randn(10000))\n",
    "plt.grid()"
   ],
   "metadata": {
    "collapsed": false
   }
  },
  {
   "cell_type": "code",
   "execution_count": 9,
   "outputs": [
    {
     "data": {
      "text/plain": "tensor([[17, 24],\n        [20, 14]])"
     },
     "execution_count": 9,
     "metadata": {},
     "output_type": "execute_result"
    }
   ],
   "source": [
    "# choose random int in range\n",
    "torch.randint(10,30,(2,2))"
   ],
   "metadata": {
    "collapsed": false
   }
  },
  {
   "cell_type": "code",
   "execution_count": 10,
   "outputs": [
    {
     "data": {
      "text/plain": "tensor([[0.5453, 0.1748, 0.1687],\n        [0.8848, 0.3679, 0.4062],\n        [0.8907, 0.9898, 0.0490]])"
     },
     "execution_count": 10,
     "metadata": {},
     "output_type": "execute_result"
    }
   ],
   "source": [
    "# use \"like\"\n",
    "x = torch.Tensor(3,3)\n",
    "torch.rand_like(x)"
   ],
   "metadata": {
    "collapsed": false
   }
  },
  {
   "cell_type": "code",
   "execution_count": 11,
   "outputs": [
    {
     "name": "stdout",
     "output_type": "stream",
     "text": [
      "tensor([[0, 1],\n",
      "        [2, 3],\n",
      "        [4, 5]])\n"
     ]
    }
   ],
   "source": [
    "# indexing and slicing is same as 2D numpy arrays\n",
    "\n",
    "x = torch.arange(6).reshape(3,2)\n",
    "print(x)\n",
    "\n",
    "assert(x[1,1].item()==3)"
   ],
   "metadata": {
    "collapsed": false
   }
  },
  {
   "cell_type": "code",
   "execution_count": 12,
   "outputs": [
    {
     "name": "stdout",
     "output_type": "stream",
     "text": [
      "torch.Size([3, 2])\n",
      "torch.Size([3, 2])\n",
      "torch.Size([2, 3])\n"
     ]
    }
   ],
   "source": [
    "# the view method\n",
    "x = torch.arange(6).reshape(3,2)\n",
    "print(x.shape)\n",
    "# only views, whereas reshape changes original\n",
    "y = x.view(2,3)\n",
    "print(x.shape)\n",
    "x = x.reshape(2,3)\n",
    "print(x.shape)"
   ],
   "metadata": {
    "collapsed": false
   }
  },
  {
   "cell_type": "code",
   "execution_count": 13,
   "outputs": [
    {
     "name": "stdout",
     "output_type": "stream",
     "text": [
      "torch.Size([2, 6])\n",
      "torch.Size([4, 3])\n"
     ]
    }
   ],
   "source": [
    "# the -1 in view means \"figure it out\"\n",
    "x = torch.arange(12)\n",
    "x = x.reshape(2,6)\n",
    "print(x.view(2,-1).shape)\n",
    "print(x.view(-1,3).shape)"
   ],
   "metadata": {
    "collapsed": false
   }
  },
  {
   "cell_type": "code",
   "execution_count": 14,
   "outputs": [
    {
     "name": "stdout",
     "output_type": "stream",
     "text": [
      "tensor([ 0.0000,  1.5000,  3.0000,  4.5000,  6.0000,  7.5000,  9.0000, 10.5000,\n",
      "        12.0000, 13.5000])\n"
     ]
    },
    {
     "data": {
      "text/plain": "tensor([ 0.0000,  1.5000,  3.0000,  4.5000,  6.0000,  7.5000,  9.0000, 10.5000,\n        12.0000, 13.5000])"
     },
     "execution_count": 14,
     "metadata": {},
     "output_type": "execute_result"
    }
   ],
   "source": [
    "# some operations\n",
    "a = torch.arange(10)\n",
    "b = torch.arange(10)/2\n",
    "print(a + b)\n",
    "\n",
    "# same as\n",
    "a.add(b)"
   ],
   "metadata": {
    "collapsed": false
   }
  },
  {
   "cell_type": "code",
   "execution_count": 15,
   "outputs": [
    {
     "name": "stdout",
     "output_type": "stream",
     "text": [
      "tensor([ 0.0000,  0.5000,  2.0000,  4.5000,  8.0000, 12.5000, 18.0000, 24.5000,\n",
      "        32.0000, 40.5000])\n"
     ]
    },
    {
     "data": {
      "text/plain": "tensor([ 0.0000,  0.5000,  2.0000,  4.5000,  8.0000, 12.5000, 18.0000, 24.5000,\n        32.0000, 40.5000])"
     },
     "execution_count": 15,
     "metadata": {},
     "output_type": "execute_result"
    }
   ],
   "source": [
    "# some operations\n",
    "a = torch.arange(10)\n",
    "b = torch.arange(10)/2\n",
    "print(a * b)\n",
    "\n",
    "# same as\n",
    "a.mul(b)"
   ],
   "metadata": {
    "collapsed": false
   }
  },
  {
   "cell_type": "code",
   "execution_count": 16,
   "outputs": [
    {
     "name": "stdout",
     "output_type": "stream",
     "text": [
      "tensor(0.5673)\n",
      "torch.Size([2, 2])\n",
      "tensor([1.3001, 0.5871])\n"
     ]
    }
   ],
   "source": [
    "# dot product operations\n",
    "a = torch.rand(3)\n",
    "b = torch.rand(3)\n",
    "\n",
    "print(a.dot(b))\n",
    "\n",
    "a = torch.rand(2,3)\n",
    "b = torch.rand(2,3)\n",
    "c = torch.rand(3)\n",
    "\n",
    "print(a.mm(b.T).shape)\n",
    "\n",
    "# matrix times vector\n",
    "print(a.matmul(c))"
   ],
   "metadata": {
    "collapsed": false
   }
  },
  {
   "cell_type": "code",
   "execution_count": 21,
   "outputs": [
    {
     "data": {
      "text/plain": "tensor([1.3001, 0.5871])"
     },
     "execution_count": 21,
     "metadata": {},
     "output_type": "execute_result"
    }
   ],
   "source": [
    "a.matmul(c)\n",
    "# different notation for same thing\n",
    "a @ c"
   ],
   "metadata": {
    "collapsed": false
   }
  },
  {
   "cell_type": "code",
   "execution_count": 22,
   "outputs": [
    {
     "data": {
      "text/plain": "tensor(1.1561)"
     },
     "execution_count": 22,
     "metadata": {},
     "output_type": "execute_result"
    }
   ],
   "source": [
    "# eucledian norm\n",
    "a.norm()"
   ],
   "metadata": {
    "collapsed": false
   }
  },
  {
   "cell_type": "code",
   "execution_count": 25,
   "outputs": [
    {
     "name": "stdout",
     "output_type": "stream",
     "text": [
      "6\n"
     ]
    },
    {
     "data": {
      "text/plain": "6"
     },
     "execution_count": 25,
     "metadata": {},
     "output_type": "execute_result"
    }
   ],
   "source": [
    "# number of elements in a matrix\n",
    "print(a.numel())\n",
    "a.shape[0]*a.shape[1]"
   ],
   "metadata": {
    "collapsed": false
   }
  }
 ],
 "metadata": {
  "kernelspec": {
   "display_name": "Python 3",
   "language": "python",
   "name": "python3"
  },
  "language_info": {
   "codemirror_mode": {
    "name": "ipython",
    "version": 2
   },
   "file_extension": ".py",
   "mimetype": "text/x-python",
   "name": "python",
   "nbconvert_exporter": "python",
   "pygments_lexer": "ipython2",
   "version": "2.7.6"
  }
 },
 "nbformat": 4,
 "nbformat_minor": 0
}
