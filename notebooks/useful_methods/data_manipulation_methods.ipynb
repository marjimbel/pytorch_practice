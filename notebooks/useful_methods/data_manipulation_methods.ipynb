{
 "cells": [
  {
   "cell_type": "code",
   "execution_count": 1,
   "metadata": {
    "collapsed": true
   },
   "outputs": [],
   "source": [
    "# loading data from files\n",
    "import torch\n",
    "import numpy as np\n",
    "import pandas as pd\n",
    "import matplotlib.pyplot as plt"
   ]
  },
  {
   "cell_type": "code",
   "execution_count": 2,
   "outputs": [
    {
     "data": {
      "text/plain": "     sepal length (cm)  sepal width (cm)  petal length (cm)  petal width (cm)  \\\n12                 4.8               3.0                1.4               0.1   \n136                6.3               3.4                5.6               2.4   \n\n     target  \n12      0.0  \n136     2.0  ",
      "text/html": "<div>\n<style scoped>\n    .dataframe tbody tr th:only-of-type {\n        vertical-align: middle;\n    }\n\n    .dataframe tbody tr th {\n        vertical-align: top;\n    }\n\n    .dataframe thead th {\n        text-align: right;\n    }\n</style>\n<table border=\"1\" class=\"dataframe\">\n  <thead>\n    <tr style=\"text-align: right;\">\n      <th></th>\n      <th>sepal length (cm)</th>\n      <th>sepal width (cm)</th>\n      <th>petal length (cm)</th>\n      <th>petal width (cm)</th>\n      <th>target</th>\n    </tr>\n  </thead>\n  <tbody>\n    <tr>\n      <th>12</th>\n      <td>4.8</td>\n      <td>3.0</td>\n      <td>1.4</td>\n      <td>0.1</td>\n      <td>0.0</td>\n    </tr>\n    <tr>\n      <th>136</th>\n      <td>6.3</td>\n      <td>3.4</td>\n      <td>5.6</td>\n      <td>2.4</td>\n      <td>2.0</td>\n    </tr>\n  </tbody>\n</table>\n</div>"
     },
     "execution_count": 2,
     "metadata": {},
     "output_type": "execute_result"
    }
   ],
   "source": [
    "# load csv with pandas\n",
    "df = pd.read_csv(\"./datasets/iris.csv\")\n",
    "df.sample(2)"
   ],
   "metadata": {
    "collapsed": false
   }
  },
  {
   "cell_type": "code",
   "execution_count": 3,
   "outputs": [
    {
     "name": "stdout",
     "output_type": "stream",
     "text": [
      "X_train.shape torch.Size([120, 4])\n",
      "X_train.type torch.float64\n",
      "X_test.shape torch.Size([30, 4])\n",
      "y_train.shape torch.Size([120, 1])\n",
      "y_train.dtype torch.int64\n",
      "y_test.shape torch.Size([30, 1])\n"
     ]
    }
   ],
   "source": [
    "# break into train/test using sklearn\n",
    "from sklearn.model_selection import train_test_split\n",
    "\n",
    "features = df.drop('target', axis=1).values\n",
    "label = df['target'].values\n",
    "\n",
    "X_train, X_test, y_train, y_test = train_test_split(features, label, test_size=0.2, random_state=42)\n",
    "\n",
    "X_train = torch.tensor(X_train)\n",
    "y_train = torch.tensor(y_train).type(torch.int64)\n",
    "\n",
    "X_test = torch.LongTensor(X_test)\n",
    "y_test = torch.LongTensor(y_test)\n",
    "\n",
    "#want the labels to be a column rather than a single row\n",
    "y_train = y_train.reshape(-1,1)\n",
    "y_test = y_test.reshape(-1,1)\n",
    "\n",
    "print(f\"X_train.shape {X_train.shape}\")\n",
    "print(f\"X_train.type {X_train.dtype}\")\n",
    "print(f\"X_test.shape {X_test.shape}\")\n",
    "\n",
    "print(f\"y_train.shape {y_train.shape}\")\n",
    "print(f\"y_train.dtype {y_train.dtype}\")\n",
    "print(f\"y_test.shape {y_test.shape}\")\n"
   ],
   "metadata": {
    "collapsed": false
   }
  },
  {
   "cell_type": "code",
   "execution_count": 4,
   "outputs": [
    {
     "name": "stdout",
     "output_type": "stream",
     "text": [
      "torch.Size([10, 4])\n",
      "torch.Size([10])\n"
     ]
    }
   ],
   "source": [
    "# use pytorch built in Dataset and Dataloader\n",
    "from torch.utils.data import TensorDataset, DataLoader\n",
    "\n",
    "data = df.drop('target', axis=1).values\n",
    "labels = df['target'].values\n",
    "\n",
    "# use Datatset\n",
    "iris = TensorDataset(torch.FloatTensor(data), torch.LongTensor(labels))\n",
    "\n",
    "# wrap it with DataLoader\n",
    "iris_loader = DataLoader(iris, batch_size=10, shuffle=True)\n",
    "\n",
    "features, label = next(iter(iris_loader))\n",
    "print(features.shape)\n",
    "print(label.shape)"
   ],
   "metadata": {
    "collapsed": false
   }
  },
  {
   "cell_type": "code",
   "execution_count": 3,
   "outputs": [
    {
     "data": {
      "text/plain": "<Figure size 640x480 with 1 Axes>",
      "image/png": "[encoded data removed]"
     },
     "metadata": {},
     "output_type": "display_data"
    }
   ],
   "source": [
    "#scale and normalize data\n",
    "from sklearn.preprocessing import MinMaxScaler\n",
    "import matplotlib.pyplot as plt\n",
    "import torch\n",
    "\n",
    "r = torch.randn(1000)*2\n",
    "\n",
    "scaler = MinMaxScaler(feature_range=(-1,1))\n",
    "scaled = scaler.fit_transform(r.reshape(-1,1))\n",
    "\n",
    "plt.hist(r, bins=100, alpha=.3, color='green', label=\"original\")\n",
    "plt.hist(scaled.squeeze(), bins=100, alpha=.3, color='red', label=\"normal\")\n",
    "plt.legend(loc=\"best\")\n",
    "plt.grid()"
   ],
   "metadata": {
    "collapsed": false
   }
  },
  {
   "cell_type": "code",
   "execution_count": null,
   "outputs": [],
   "source": [
    "# one-hot encoding of characters\n"
   ],
   "metadata": {
    "collapsed": false
   }
  },
  {
   "cell_type": "code",
   "execution_count": null,
   "outputs": [],
   "source": [
    "# one-hot encoding of words\n"
   ],
   "metadata": {
    "collapsed": false
   }
  },
  {
   "cell_type": "code",
   "execution_count": null,
   "outputs": [],
   "source": [
    "# create sliding window for regression prediction using rnns"
   ],
   "metadata": {
    "collapsed": false
   }
  },
  {
   "cell_type": "code",
   "execution_count": 1,
   "outputs": [],
   "source": [
    "# create sliding window for words\n"
   ],
   "metadata": {
    "collapsed": false
   }
  },
  {
   "cell_type": "code",
   "execution_count": null,
   "outputs": [],
   "source": [],
   "metadata": {
    "collapsed": false
   }
  }
 ],
 "metadata": {
  "kernelspec": {
   "display_name": "Python 3",
   "language": "python",
   "name": "python3"
  },
  "language_info": {
   "codemirror_mode": {
    "name": "ipython",
    "version": 2
   },
   "file_extension": ".py",
   "mimetype": "text/x-python",
   "name": "python",
   "nbconvert_exporter": "python",
   "pygments_lexer": "ipython2",
   "version": "2.7.6"
  }
 },
 "nbformat": 4,
 "nbformat_minor": 0
}
