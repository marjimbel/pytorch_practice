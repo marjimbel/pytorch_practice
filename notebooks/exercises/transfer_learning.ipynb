{
 "cells": [
  {
   "cell_type": "markdown",
   "metadata": {},
   "source": [
    "# Transfer Learning\n",
    "\n",
    "In this notebook, you'll learn how to use pre-trained networks to solved challenging problems in computer vision. Specifically, you'll use networks trained on [ImageNet](http://www.image-net.org/) [available from torchvision](http://pytorch.org/docs/0.3.0/torchvision/models.html). \n",
    "\n",
    "ImageNet is a massive dataset with over 1 million labeled images in 1000 categories. It's used to train deep neural networks using an architecture called convolutional layers. I'm not going to get into the details of convolutional networks here, but if you want to learn more about them, please [watch this](https://www.youtube.com/watch?v=2-Ol7ZB0MmU).\n",
    "\n",
    "Once trained, these models work astonishingly well as feature detectors for images they weren't trained on. Using a pre-trained network on images not in the training set is called transfer learning. Here we'll use transfer learning to train a network that can classify our cat and dog photos with near perfect accuracy.\n",
    "\n",
    "With `torchvision.models` you can download these pre-trained networks and use them in your applications. We'll include `models` in our imports now."
   ]
  },
  {
   "cell_type": "code",
   "execution_count": 1,
   "metadata": {},
   "outputs": [],
   "source": [
    "%matplotlib inline\n",
    "%config InlineBackend.figure_format = 'retina'\n",
    "\n",
    "import matplotlib.pyplot as plt\n",
    "\n",
    "import torch\n",
    "from torch import nn\n",
    "from torch import optim\n",
    "import torch.nn.functional as F\n",
    "from torchvision import datasets, transforms, models"
   ]
  },
  {
   "cell_type": "markdown",
   "metadata": {},
   "source": [
    "Most of the pretrained models require the input to be 224x224 images. Also, we'll need to match the normalization used when the models were trained. Each color channel was normalized separately, the means are `[0.485, 0.456, 0.406]` and the standard deviations are `[0.229, 0.224, 0.225]`."
   ]
  },
  {
   "cell_type": "code",
   "execution_count": 2,
   "metadata": {},
   "outputs": [],
   "source": [
    "data_dir = '/Users/marjimbel/PycharmProjects/pytorch_practice/notebooks/Cat_Dog_data'\n",
    "image_size = 224\n",
    "\n",
    "# TODO: Define transforms for the training data and testing data\n",
    "\n",
    "train_transforms = transforms.Compose([\n",
    "    transforms.Resize(image_size),\n",
    "    transforms.CenterCrop(image_size-1),\n",
    "    transforms.RandomRotation(30),\n",
    "    transforms.RandomHorizontalFlip(),\n",
    "    transforms.ToTensor(),\n",
    "    transforms.Normalize([0.485, 0.456, 0.406],[0.229, 0.224, 0.225])])\n",
    "\n",
    "test_transforms = transforms.Compose([\n",
    "    transforms.Resize(image_size),\n",
    "    transforms.CenterCrop(image_size-1),\n",
    "    transforms.ToTensor(),\n",
    "    transforms.Normalize([0.485, 0.456, 0.406],[0.229, 0.224, 0.225])])\n",
    "\n",
    "# Pass transforms in here, then run the next cell to see how the transforms look\n",
    "train_data = datasets.ImageFolder(data_dir + '/train', transform=train_transforms)\n",
    "test_data = datasets.ImageFolder(data_dir + '/test', transform=test_transforms)\n",
    "\n",
    "trainloader = torch.utils.data.DataLoader(train_data, batch_size=64, shuffle=True)\n",
    "testloader = torch.utils.data.DataLoader(test_data, batch_size=64)"
   ]
  },
  {
   "cell_type": "markdown",
   "metadata": {},
   "source": [
    "We can load in a model such as [DenseNet](http://pytorch.org/docs/0.3.0/torchvision/models.html#id5). Let's print out the model architecture so we can see what's going on."
   ]
  },
  {
   "cell_type": "code",
   "execution_count": 3,
   "metadata": {
    "scrolled": true
   },
   "outputs": [
    {
     "name": "stderr",
     "output_type": "stream",
     "text": [
      "/Users/marjimbel/PycharmProjects/pytorch_practice/venv/lib/python3.9/site-packages/torchvision/models/_utils.py:208: UserWarning: The parameter 'pretrained' is deprecated since 0.13 and may be removed in the future, please use 'weights' instead.\n",
      "  warnings.warn(\n",
      "/Users/marjimbel/PycharmProjects/pytorch_practice/venv/lib/python3.9/site-packages/torchvision/models/_utils.py:223: UserWarning: Arguments other than a weight enum or `None` for 'weights' are deprecated since 0.13 and may be removed in the future. The current behavior is equivalent to passing `weights=DenseNet121_Weights.IMAGENET1K_V1`. You can also use `weights=DenseNet121_Weights.DEFAULT` to get the most up-to-date weights.\n",
      "  warnings.warn(msg)\n",
      "Downloading: \"https://download.pytorch.org/models/densenet121-a639ec97.pth\" to /Users/marjimbel/.cache/torch/hub/checkpoints/densenet121-a639ec97.pth\n",
      "76.0%IOPub message rate exceeded.\n",
      "The notebook server will temporarily stop sending output\n",
      "to the client in order to avoid crashing it.\n",
      "To change this limit, set the config variable\n",
      "`--NotebookApp.iopub_msg_rate_limit`.\n",
      "\n",
      "Current values:\n",
      "NotebookApp.iopub_msg_rate_limit=1000.0 (msgs/sec)\n",
      "NotebookApp.rate_limit_window=3.0 (secs)\n",
      "\n"
     ]
    }
   ],
   "source": [
    "model = models.densenet121(pretrained=True)\n",
    "model"
   ]
  },
  {
   "cell_type": "markdown",
   "metadata": {},
   "source": [
    "This model is built out of two main parts, the features and the classifier. The features part is a stack of convolutional layers and overall works as a feature detector that can be fed into a classifier. The classifier part is a single fully-connected layer `(classifier): Linear(in_features=1024, out_features=1000)`. This layer was trained on the ImageNet dataset, so it won't work for our specific problem. That means we need to replace the classifier, but the features will work perfectly on their own. In general, I think about pre-trained networks as amazingly good feature detectors that can be used as the input for simple feed-forward classifiers."
   ]
  },
  {
   "cell_type": "code",
   "execution_count": 4,
   "metadata": {},
   "outputs": [],
   "source": [
    "# Freeze parameters so we don't backprop through them\n",
    "for param in model.parameters():\n",
    "    param.requires_grad = False\n",
    "\n",
    "from collections import OrderedDict\n",
    "classifier = nn.Sequential(OrderedDict([\n",
    "                          ('fc1', nn.Linear(1024, 500)),\n",
    "                          ('relu', nn.ReLU()),\n",
    "                          ('fc2', nn.Linear(500, 2)),\n",
    "                          ('output', nn.LogSoftmax(dim=1))\n",
    "                          ]))\n",
    "    \n",
    "model.classifier = classifier"
   ]
  },
  {
   "cell_type": "markdown",
   "metadata": {},
   "source": [
    "With our model built, we need to train the classifier. However, now we're using a **really deep** neural network. If you try to train this on a CPU like normal, it will take a long, long time. Instead, we're going to use the GPU to do the calculations. The linear algebra computations are done in parallel on the GPU leading to 100x increased training speeds. It's also possible to train on multiple GPUs, further decreasing training time.\n",
    "\n",
    "PyTorch, along with pretty much every other deep learning framework, uses [CUDA](https://developer.nvidia.com/cuda-zone) to efficiently compute the forward and backwards passes on the GPU. In PyTorch, you move your model parameters and other tensors to the GPU memory using `model.to('cuda')`. You can move them back from the GPU with `model.to('cpu')` which you'll commonly do when you need to operate on the network output outside of PyTorch. As a demonstration of the increased speed, I'll compare how long it takes to perform a forward and backward pass with and without a GPU."
   ]
  },
  {
   "cell_type": "code",
   "execution_count": 11,
   "metadata": {},
   "outputs": [
    {
     "name": "stdout",
     "output_type": "stream",
     "text": [
      "True\n",
      "True\n"
     ]
    }
   ],
   "source": [
    "import time\n",
    "# this ensures that the current MacOS version is at least 12.3+\n",
    "print(torch.backends.mps.is_available())\n",
    "# this ensures that the current current PyTorch installation was built with MPS activated.\n",
    "print(torch.backends.mps.is_built())\n",
    "\n",
    "#device = torch.device(\"mps\")"
   ]
  },
  {
   "cell_type": "code",
   "execution_count": 12,
   "metadata": {},
   "outputs": [
    {
     "name": "stdout",
     "output_type": "stream",
     "text": [
      "Device = mps; Time per batch: 0.205 seconds\n",
      "Device = mps; Time per batch: 0.205 seconds\n"
     ]
    }
   ],
   "source": [
    "for device in ['cpu', 'mps']:\n",
    "\n",
    "    criterion = nn.NLLLoss()\n",
    "    # Only train the classifier parameters, feature parameters are frozen\n",
    "    optimizer = optim.Adam(model.classifier.parameters(), lr=0.001)\n",
    "\n",
    "#    device = torch.device(\"mps\" if torch.backends.mps.is_built() else \"cpu\")\n",
    "\n",
    "    model.to(device)\n",
    "\n",
    "    for ii, (inputs, labels) in enumerate(trainloader):\n",
    "\n",
    "        # Move input and label tensors to the GPU\n",
    "        inputs, labels = inputs.to(device), labels.to(device)\n",
    "\n",
    "        start = time.time()\n",
    "\n",
    "        outputs = model.forward(inputs)\n",
    "        loss = criterion(outputs, labels)\n",
    "\n",
    "        optimizer.zero_grad()\n",
    "        loss.backward()\n",
    "        optimizer.step()\n",
    "\n",
    "        if ii==3:\n",
    "            break\n",
    "        \n",
    "    print(f\"Device = {device}; Time per batch: {(time.time() - start)/3:.3f} seconds\")"
   ]
  },
  {
   "cell_type": "markdown",
   "metadata": {},
   "source": [
    "You can write device agnostic code which will automatically use CUDA if it's enabled like so:\n",
    "```python\n",
    "# at beginning of the script\n",
    "device = torch.device(\"cuda:0\" if torch.cuda.is_available() else \"cpu\")\n",
    "\n",
    "...\n",
    "\n",
    "# then whenever you get a new Tensor or Module\n",
    "# this won't copy if they are already on the desired device\n",
    "input = data.to(device)\n",
    "model = MyModule(...).to(device)\n",
    "```\n",
    "\n",
    "From here, I'll let you finish training the model. The process is the same as before except now your model is much more powerful. You should get better than 95% accuracy easily.\n",
    "\n",
    ">**Exercise:** Train a pretrained models to classify the cat and dog images. Continue with the DenseNet model, or try ResNet, it's also a good model to try out first. Make sure you are only training the classifier and the parameters for the features part are frozen."
   ]
  },
  {
   "cell_type": "code",
   "execution_count": 23,
   "outputs": [],
   "source": [
    "def validation(model, inputs, criterion):\n",
    "\n",
    "    accuracy = 0\n",
    "    test_loss = 0\n",
    "\n",
    "    device = torch.device(\"mps\" if torch.backends.mps.is_built() else \"cpu\")\n",
    "    model.to(device)\n",
    "    model.eval()\n",
    "    with torch.no_grad():\n",
    "        for inputs, labels in testloader:\n",
    "\n",
    "            inputs, labels = inputs.to(device), labels.to(device)\n",
    "            output = model.forward(inputs)\n",
    "            test_loss += criterion(output, labels).item()\n",
    "\n",
    "            ## Calculating the accuracy\n",
    "            # Model's output is log-softmax, take exponential to get the probabilities\n",
    "            ps = torch.exp(output)\n",
    "            # Class with highest probability is our predicted class, compare with true label\n",
    "            equality = (labels.data == ps.max(1)[1])\n",
    "            # Accuracy is number of correct predictions divided by all predictions, just take the mean\n",
    "            accuracy += equality.type_as(torch.FloatTensor()).mean()\n",
    "\n",
    "    model.train()\n",
    "    return test_loss, accuracy"
   ],
   "metadata": {
    "collapsed": false
   }
  },
  {
   "cell_type": "code",
   "execution_count": 24,
   "metadata": {},
   "outputs": [
    {
     "name": "stdout",
     "output_type": "stream",
     "text": [
      "Epoch: 1/1..  Training Loss: 0.069..  Test Loss: 0.058..  Test Accuracy: 0.979\n",
      "Epoch: 1/1..  Training Loss: 0.112..  Test Loss: 0.097..  Test Accuracy: 0.962\n",
      "Epoch: 1/1..  Training Loss: 0.122..  Test Loss: 0.110..  Test Accuracy: 0.961\n",
      "Epoch: 1/1..  Training Loss: 0.093..  Test Loss: 0.070..  Test Accuracy: 0.973\n",
      "Epoch: 1/1..  Training Loss: 0.093..  Test Loss: 0.087..  Test Accuracy: 0.967\n",
      "Epoch: 1/1..  Training Loss: 0.084..  Test Loss: 0.051..  Test Accuracy: 0.982\n",
      "Epoch: 1/1..  Training Loss: 0.075..  Test Loss: 0.057..  Test Accuracy: 0.980\n",
      "Epoch: 1/1..  Training Loss: 0.058..  Test Loss: 0.070..  Test Accuracy: 0.973\n",
      "Epoch: 1/1..  Training Loss: 0.080..  Test Loss: 0.049..  Test Accuracy: 0.981\n",
      "Epoch: 1/1..  Training Loss: 0.067..  Test Loss: 0.058..  Test Accuracy: 0.975\n",
      "Epoch: 1/1..  Training Loss: 0.068..  Test Loss: 0.051..  Test Accuracy: 0.982\n",
      "Epoch: 1/1..  Training Loss: 0.070..  Test Loss: 0.060..  Test Accuracy: 0.978\n",
      "Epoch: 1/1..  Training Loss: 0.063..  Test Loss: 0.051..  Test Accuracy: 0.982\n",
      "Epoch: 1/1..  Training Loss: 0.110..  Test Loss: 0.049..  Test Accuracy: 0.982\n",
      "Epoch: 1/1..  Training Loss: 0.095..  Test Loss: 0.054..  Test Accuracy: 0.979\n",
      "Epoch: 1/1..  Training Loss: 0.155..  Test Loss: 0.052..  Test Accuracy: 0.981\n",
      "Epoch: 1/1..  Training Loss: 0.107..  Test Loss: 0.063..  Test Accuracy: 0.977\n",
      "Epoch: 1/1..  Training Loss: 0.083..  Test Loss: 0.058..  Test Accuracy: 0.978\n",
      "Epoch: 1/1..  Training Loss: 0.088..  Test Loss: 0.049..  Test Accuracy: 0.982\n",
      "Epoch: 1/1..  Training Loss: 0.095..  Test Loss: 0.066..  Test Accuracy: 0.974\n",
      "Epoch: 1/1..  Training Loss: 0.099..  Test Loss: 0.067..  Test Accuracy: 0.973\n",
      "Epoch: 1/1..  Training Loss: 0.149..  Test Loss: 0.053..  Test Accuracy: 0.983\n",
      "Epoch: 1/1..  Training Loss: 0.093..  Test Loss: 0.051..  Test Accuracy: 0.982\n",
      "Epoch: 1/1..  Training Loss: 0.068..  Test Loss: 0.051..  Test Accuracy: 0.979\n",
      "Epoch: 1/1..  Training Loss: 0.090..  Test Loss: 0.059..  Test Accuracy: 0.980\n",
      "Epoch: 1/1..  Training Loss: 0.080..  Test Loss: 0.048..  Test Accuracy: 0.983\n",
      "Epoch: 1/1..  Training Loss: 0.057..  Test Loss: 0.052..  Test Accuracy: 0.979\n",
      "Epoch: 1/1..  Training Loss: 0.084..  Test Loss: 0.047..  Test Accuracy: 0.984\n",
      "Epoch: 1/1..  Training Loss: 0.075..  Test Loss: 0.047..  Test Accuracy: 0.984\n",
      "Epoch: 1/1..  Training Loss: 0.066..  Test Loss: 0.048..  Test Accuracy: 0.981\n",
      "Epoch: 1/1..  Training Loss: 0.071..  Test Loss: 0.052..  Test Accuracy: 0.979\n",
      "Epoch: 1/1..  Training Loss: 0.090..  Test Loss: 0.087..  Test Accuracy: 0.963\n",
      "Epoch: 1/1..  Training Loss: 0.129..  Test Loss: 0.055..  Test Accuracy: 0.979\n",
      "Epoch: 1/1..  Training Loss: 0.071..  Test Loss: 0.070..  Test Accuracy: 0.973\n",
      "Epoch: 1/1..  Training Loss: 0.104..  Test Loss: 0.076..  Test Accuracy: 0.973\n"
     ]
    }
   ],
   "source": [
    "## TODO: Use a pretrained model to classify the cat and dog images\n",
    "device = torch.device(\"mps\" if torch.backends.mps.is_built() else \"cpu\")\n",
    "model.to(device)\n",
    "\n",
    "inputs, _ = next(iter(trainloader))\n",
    "features_dim = inputs.view(inputs.shape[0],-1).shape[1]\n",
    "\n",
    "epochs = 1\n",
    "steps = 0\n",
    "running_loss = 0\n",
    "\n",
    "for e in range(0,epochs):\n",
    "    for ii, (inputs, labels) in enumerate(trainloader):\n",
    "        steps+=1\n",
    "        # Move input and label tensors to the GPU\n",
    "        inputs, labels = inputs.to(device), labels.to(device)\n",
    "\n",
    "        optimizer.zero_grad()\n",
    "        outputs = model.forward(inputs)\n",
    "        loss = criterion(outputs, labels)\n",
    "\n",
    "        optimizer.zero_grad()\n",
    "        loss.backward()\n",
    "        running_loss += loss.item()\n",
    "\n",
    "        optimizer.step()\n",
    "\n",
    "        if steps % 10 == 0:\n",
    "            # Model in inference mode, dropout is off\n",
    "            model.eval()\n",
    "\n",
    "            #Turn off gradients for validation, will speed up inference\n",
    "            with torch.no_grad():\n",
    "               test_loss, accuracy = validation(model, testloader, criterion)\n",
    "\n",
    "            print(\"Epoch: {}/{}.. \".format(e+1, epochs),\n",
    "                  \"Training Loss: {:.3f}.. \".format(running_loss/10),\n",
    "                  \"Test Loss: {:.3f}.. \".format(test_loss/len(testloader)),\n",
    "                  \"Test Accuracy: {:.3f}\".format(accuracy/len(testloader)))\n",
    "\n",
    "            running_loss = 0\n",
    "\n",
    "            # Make sure dropout and grads are on for training\n",
    "            model.train()\n"
   ]
  }
 ],
 "metadata": {
  "kernelspec": {
   "display_name": "Python 3",
   "language": "python",
   "name": "python3"
  },
  "language_info": {
   "codemirror_mode": {
    "name": "ipython",
    "version": 3
   },
   "file_extension": ".py",
   "mimetype": "text/x-python",
   "name": "python",
   "nbconvert_exporter": "python",
   "pygments_lexer": "ipython3",
   "version": "3.6.6"
  }
 },
 "nbformat": 4,
 "nbformat_minor": 2
}
